{
  "cells": [
    {
      "cell_type": "markdown",
      "metadata": {
        "id": "view-in-github",
        "colab_type": "text"
      },
      "source": [
        "<a href=\"https://colab.research.google.com/github/iIPM2023/superagent/blob/main/Instrctor_Tutorial.ipynb\" target=\"_parent\"><img src=\"https://colab.research.google.com/assets/colab-badge.svg\" alt=\"Open In Colab\"/></a>"
      ]
    },
    {
      "cell_type": "markdown",
      "metadata": {
        "id": "hakZMM1l3Um2"
      },
      "source": [
        "Support this genious project: https://github.com/jxnl/instructor"
      ]
    },
    {
      "cell_type": "code",
      "execution_count": null,
      "metadata": {
        "id": "hcJIgB0N2zPa",
        "colab": {
          "base_uri": "https://localhost:8080/"
        },
        "outputId": "34111f40-61d9-4ec4-d870-bf81facc971f"
      },
      "outputs": [
        {
          "output_type": "stream",
          "name": "stdout",
          "text": [
            "Collecting git+https://github.com/VRSEN/agency-swarm.git\n",
            "  Cloning https://github.com/VRSEN/agency-swarm.git to /tmp/pip-req-build-4mydr6e3\n",
            "  Running command git clone --filter=blob:none --quiet https://github.com/VRSEN/agency-swarm.git /tmp/pip-req-build-4mydr6e3\n",
            "  Resolved https://github.com/VRSEN/agency-swarm.git to commit 9e19c7dc033d1430ffa6aef2f1216e5ffdf1d728\n",
            "  Preparing metadata (setup.py) ... \u001b[?25l\u001b[?25hdone\n",
            "Requirement already satisfied: langchain in /usr/local/lib/python3.10/dist-packages (0.0.345)\n",
            "Requirement already satisfied: pydantic[email] in /usr/local/lib/python3.10/dist-packages (2.5.2)\n",
            "Requirement already satisfied: instructor in /usr/local/lib/python3.10/dist-packages (0.3.4)\n",
            "Requirement already satisfied: youtube_search in /usr/local/lib/python3.10/dist-packages (2.1.2)\n",
            "Requirement already satisfied: PyYAML>=5.3 in /usr/local/lib/python3.10/dist-packages (from langchain) (6.0.1)\n",
            "Requirement already satisfied: SQLAlchemy<3,>=1.4 in /usr/local/lib/python3.10/dist-packages (from langchain) (2.0.23)\n",
            "Requirement already satisfied: aiohttp<4.0.0,>=3.8.3 in /usr/local/lib/python3.10/dist-packages (from langchain) (3.9.1)\n",
            "Requirement already satisfied: anyio<4.0 in /usr/local/lib/python3.10/dist-packages (from langchain) (3.7.1)\n",
            "Requirement already satisfied: async-timeout<5.0.0,>=4.0.0 in /usr/local/lib/python3.10/dist-packages (from langchain) (4.0.3)\n",
            "Requirement already satisfied: dataclasses-json<0.7,>=0.5.7 in /usr/local/lib/python3.10/dist-packages (from langchain) (0.6.3)\n",
            "Requirement already satisfied: jsonpatch<2.0,>=1.33 in /usr/local/lib/python3.10/dist-packages (from langchain) (1.33)\n",
            "Requirement already satisfied: langchain-core<0.1,>=0.0.9 in /usr/local/lib/python3.10/dist-packages (from langchain) (0.0.9)\n",
            "Requirement already satisfied: langsmith<0.1.0,>=0.0.63 in /usr/local/lib/python3.10/dist-packages (from langchain) (0.0.69)\n",
            "Requirement already satisfied: numpy<2,>=1 in /usr/local/lib/python3.10/dist-packages (from langchain) (1.23.5)\n",
            "Requirement already satisfied: requests<3,>=2 in /usr/local/lib/python3.10/dist-packages (from langchain) (2.31.0)\n",
            "Requirement already satisfied: tenacity<9.0.0,>=8.1.0 in /usr/local/lib/python3.10/dist-packages (from langchain) (8.2.3)\n",
            "Requirement already satisfied: annotated-types>=0.4.0 in /usr/local/lib/python3.10/dist-packages (from pydantic[email]) (0.6.0)\n",
            "Requirement already satisfied: pydantic-core==2.14.5 in /usr/local/lib/python3.10/dist-packages (from pydantic[email]) (2.14.5)\n",
            "Requirement already satisfied: typing-extensions>=4.6.1 in /usr/local/lib/python3.10/dist-packages (from pydantic[email]) (4.8.0)\n",
            "Requirement already satisfied: email-validator>=2.0.0 in /usr/local/lib/python3.10/dist-packages (from pydantic[email]) (2.1.0.post1)\n",
            "Requirement already satisfied: openai==1.3.0 in /usr/local/lib/python3.10/dist-packages (from agency-swarm==0.1.0) (1.3.0)\n",
            "Requirement already satisfied: deepdiff==6.7.1 in /usr/local/lib/python3.10/dist-packages (from agency-swarm==0.1.0) (6.7.1)\n",
            "Requirement already satisfied: termcolor==2.3.0 in /usr/local/lib/python3.10/dist-packages (from agency-swarm==0.1.0) (2.3.0)\n",
            "Requirement already satisfied: python-dotenv==1.0.0 in /usr/local/lib/python3.10/dist-packages (from agency-swarm==0.1.0) (1.0.0)\n",
            "Requirement already satisfied: docstring-parser<0.16,>=0.15 in /usr/local/lib/python3.10/dist-packages (from instructor) (0.15)\n",
            "Requirement already satisfied: typer<0.10.0,>=0.9.0 in /usr/local/lib/python3.10/dist-packages (from instructor) (0.9.0)\n",
            "Requirement already satisfied: ordered-set<4.2.0,>=4.0.2 in /usr/local/lib/python3.10/dist-packages (from deepdiff==6.7.1->agency-swarm==0.1.0) (4.1.0)\n",
            "Requirement already satisfied: distro<2,>=1.7.0 in /usr/lib/python3/dist-packages (from openai==1.3.0->agency-swarm==0.1.0) (1.7.0)\n",
            "Requirement already satisfied: httpx<1,>=0.23.0 in /usr/local/lib/python3.10/dist-packages (from openai==1.3.0->agency-swarm==0.1.0) (0.25.2)\n",
            "Requirement already satisfied: tqdm>4 in /usr/local/lib/python3.10/dist-packages (from openai==1.3.0->agency-swarm==0.1.0) (4.66.1)\n",
            "Requirement already satisfied: attrs>=17.3.0 in /usr/local/lib/python3.10/dist-packages (from aiohttp<4.0.0,>=3.8.3->langchain) (23.1.0)\n",
            "Requirement already satisfied: multidict<7.0,>=4.5 in /usr/local/lib/python3.10/dist-packages (from aiohttp<4.0.0,>=3.8.3->langchain) (6.0.4)\n",
            "Requirement already satisfied: yarl<2.0,>=1.0 in /usr/local/lib/python3.10/dist-packages (from aiohttp<4.0.0,>=3.8.3->langchain) (1.9.3)\n",
            "Requirement already satisfied: frozenlist>=1.1.1 in /usr/local/lib/python3.10/dist-packages (from aiohttp<4.0.0,>=3.8.3->langchain) (1.4.0)\n",
            "Requirement already satisfied: aiosignal>=1.1.2 in /usr/local/lib/python3.10/dist-packages (from aiohttp<4.0.0,>=3.8.3->langchain) (1.3.1)\n",
            "Requirement already satisfied: idna>=2.8 in /usr/local/lib/python3.10/dist-packages (from anyio<4.0->langchain) (3.6)\n",
            "Requirement already satisfied: sniffio>=1.1 in /usr/local/lib/python3.10/dist-packages (from anyio<4.0->langchain) (1.3.0)\n",
            "Requirement already satisfied: exceptiongroup in /usr/local/lib/python3.10/dist-packages (from anyio<4.0->langchain) (1.2.0)\n",
            "Requirement already satisfied: marshmallow<4.0.0,>=3.18.0 in /usr/local/lib/python3.10/dist-packages (from dataclasses-json<0.7,>=0.5.7->langchain) (3.20.1)\n",
            "Requirement already satisfied: typing-inspect<1,>=0.4.0 in /usr/local/lib/python3.10/dist-packages (from dataclasses-json<0.7,>=0.5.7->langchain) (0.9.0)\n",
            "Requirement already satisfied: dnspython>=2.0.0 in /usr/local/lib/python3.10/dist-packages (from email-validator>=2.0.0->pydantic[email]) (2.4.2)\n",
            "Requirement already satisfied: jsonpointer>=1.9 in /usr/local/lib/python3.10/dist-packages (from jsonpatch<2.0,>=1.33->langchain) (2.4)\n",
            "Requirement already satisfied: charset-normalizer<4,>=2 in /usr/local/lib/python3.10/dist-packages (from requests<3,>=2->langchain) (3.3.2)\n",
            "Requirement already satisfied: urllib3<3,>=1.21.1 in /usr/local/lib/python3.10/dist-packages (from requests<3,>=2->langchain) (2.0.7)\n",
            "Requirement already satisfied: certifi>=2017.4.17 in /usr/local/lib/python3.10/dist-packages (from requests<3,>=2->langchain) (2023.11.17)\n",
            "Requirement already satisfied: greenlet!=0.4.17 in /usr/local/lib/python3.10/dist-packages (from SQLAlchemy<3,>=1.4->langchain) (3.0.1)\n",
            "Requirement already satisfied: click<9.0.0,>=7.1.1 in /usr/local/lib/python3.10/dist-packages (from typer<0.10.0,>=0.9.0->instructor) (8.1.7)\n",
            "Requirement already satisfied: httpcore==1.* in /usr/local/lib/python3.10/dist-packages (from httpx<1,>=0.23.0->openai==1.3.0->agency-swarm==0.1.0) (1.0.2)\n",
            "Requirement already satisfied: h11<0.15,>=0.13 in /usr/local/lib/python3.10/dist-packages (from httpcore==1.*->httpx<1,>=0.23.0->openai==1.3.0->agency-swarm==0.1.0) (0.14.0)\n",
            "Requirement already satisfied: packaging>=17.0 in /usr/local/lib/python3.10/dist-packages (from marshmallow<4.0.0,>=3.18.0->dataclasses-json<0.7,>=0.5.7->langchain) (23.2)\n",
            "Requirement already satisfied: mypy-extensions>=0.3.0 in /usr/local/lib/python3.10/dist-packages (from typing-inspect<1,>=0.4.0->dataclasses-json<0.7,>=0.5.7->langchain) (1.0.0)\n"
          ]
        }
      ],
      "source": [
        "!pip install langchain pydantic[email] git+https://github.com/VRSEN/agency-swarm.git instructor youtube_search"
      ]
    },
    {
      "cell_type": "code",
      "execution_count": null,
      "metadata": {
        "colab": {
          "base_uri": "https://localhost:8080/"
        },
        "id": "X37gfI_t3mQN",
        "outputId": "b3a84cf6-dd0a-4682-cd8f-4ab28c273622"
      },
      "outputs": [
        {
          "name": "stdout",
          "output_type": "stream",
          "text": [
            "Paste your openai api key: ··········\n"
          ]
        }
      ],
      "source": [
        "import openai\n",
        "from openai import OpenAI\n",
        "import instructor\n",
        "from getpass import getpass\n",
        "openai.api_key = getpass(\"Paste your openai api key: \")"
      ]
    },
    {
      "cell_type": "markdown",
      "source": [
        "# Pathcing the clent\n",
        "This exposes new functionality with the response_model parameter."
      ],
      "metadata": {
        "id": "4p2liPYdPimG"
      }
    },
    {
      "cell_type": "code",
      "execution_count": null,
      "metadata": {
        "id": "GHZFBVNC-F1g"
      },
      "outputs": [],
      "source": [
        "client = instructor.patch(OpenAI(api_key = openai.api_key))"
      ]
    },
    {
      "cell_type": "markdown",
      "source": [
        "# Basic Data Extraction\n",
        "Use `response_model` parameter to get structured outputs from your openai completions!"
      ],
      "metadata": {
        "id": "ajU7vFKKPqJc"
      }
    },
    {
      "cell_type": "code",
      "execution_count": null,
      "metadata": {
        "id": "zlezpkG-3xCf"
      },
      "outputs": [],
      "source": [
        "from pydantic import BaseModel, Field\n",
        "\n",
        "class UserDetail(BaseModel):\n",
        "    \"\"\"Extract user data\"\"\"\n",
        "    name: str\n",
        "    age: int"
      ]
    },
    {
      "cell_type": "code",
      "execution_count": null,
      "metadata": {
        "id": "8KVUTFze8hBY"
      },
      "outputs": [],
      "source": [
        "user: UserDetail = client.chat.completions.create(\n",
        "    model=\"gpt-3.5-turbo\",\n",
        "    response_model=UserDetail,\n",
        "    messages=[\n",
        "        {\"role\": \"user\", \"content\": \"Hi, my name is Arsenii, and I am 24 yo.\"},\n",
        "    ]\n",
        ")"
      ]
    },
    {
      "cell_type": "code",
      "execution_count": null,
      "metadata": {
        "colab": {
          "base_uri": "https://localhost:8080/",
          "height": 36
        },
        "id": "yt9_48xm-Ikk",
        "outputId": "774427ce-598e-46d9-c4d2-b4124425fae4"
      },
      "outputs": [
        {
          "output_type": "execute_result",
          "data": {
            "text/plain": [
              "'Arsenii'"
            ],
            "application/vnd.google.colaboratory.intrinsic+json": {
              "type": "string"
            }
          },
          "metadata": {},
          "execution_count": 6
        }
      ],
      "source": [
        "user.name"
      ]
    },
    {
      "cell_type": "markdown",
      "source": [
        "# Fields\n",
        "The `pydantic.Field` function is used to customize and add metadata to fields of models. To learn more check out the pydantic [documentation](https://docs.pydantic.dev/latest/concepts/fields/) as this is a near replica of that documentation that is relevant to prompting."
      ],
      "metadata": {
        "id": "rQwXvl8FTiMa"
      }
    },
    {
      "cell_type": "markdown",
      "source": [
        "Value is not required when `default` or `default_factory` is set."
      ],
      "metadata": {
        "id": "8aKhji3rUB7K"
      }
    },
    {
      "cell_type": "code",
      "source": [
        "from pydantic import BaseModel\n",
        "from uuid import uuid4\n",
        "from typing import Optional\n",
        "\n",
        "class User(BaseModel):\n",
        "    id: str = Field(default_factory=lambda: uuid4().hex)\n",
        "    id2: Optional[str]"
      ],
      "metadata": {
        "id": "1B-JBbb_fYEp"
      },
      "execution_count": null,
      "outputs": []
    },
    {
      "cell_type": "markdown",
      "source": [
        "### Customizing JSON Schema\n",
        "\n",
        "There are fields that exclusively to customise the generated JSON Schema:\n",
        "\n",
        "- `title`: The title of the field.\n",
        "- `description`: The description of the field.\n",
        "- `examples`: The examples of the field.\n",
        "- `json_schema_extra`: Extra JSON Schema properties to be added to the field.\n",
        "\n",
        "These all work as great opportunities to add more information to the JSON Schema as part\n",
        "of your prompt engineering."
      ],
      "metadata": {
        "id": "jYu_akvygE3y"
      }
    },
    {
      "cell_type": "code",
      "source": [
        "from pydantic import BaseModel, EmailStr, Field, SecretStr\n",
        "\n",
        "from instructor import OpenAISchema\n",
        "\n",
        "\n",
        "class User(BaseModel):\n",
        "    age: int = Field(description='Age of the user')\n",
        "    email: EmailStr = Field(examples=['marcelo@mail.com'])\n",
        "    name: str = Field(title='Username')\n",
        "    password: SecretStr = Field(\n",
        "        json_schema_extra={\n",
        "            'title': 'Password',\n",
        "            'description': 'Password of the user',\n",
        "            'examples': ['123456'],\n",
        "        }\n",
        "    )"
      ],
      "metadata": {
        "id": "6EaNmhPyTtm8"
      },
      "execution_count": null,
      "outputs": []
    },
    {
      "cell_type": "markdown",
      "source": [
        "# Validation\n",
        "Instead of framing \"self-critique\" or \"self-reflection\" in AI as new concepts, we can view them as validation errors with clear error messages that the systen can use to self correct."
      ],
      "metadata": {
        "id": "b4zbsalsfeu-"
      }
    },
    {
      "cell_type": "code",
      "source": [
        "from pydantic import field_validator\n",
        "\n",
        "class RefundDetails(BaseModel):\n",
        "    \"\"\"Use this function to issue a refund to the customer\"\"\"\n",
        "    customer_name: str\n",
        "    amount: int\n",
        "\n",
        "    @field_validator(\"amount\")\n",
        "    @classmethod\n",
        "    def validate_amount(cls, v):\n",
        "        if v > 100:\n",
        "            raise ValueError(\"Amount must be less than 100\")\n",
        "        return v"
      ],
      "metadata": {
        "id": "-gXTrYV8gxzA"
      },
      "execution_count": null,
      "outputs": []
    },
    {
      "cell_type": "code",
      "source": [
        "refund: RefundDetails = client.chat.completions.create(\n",
        "    model=\"gpt-3.5-turbo\",\n",
        "    response_model=RefundDetails,\n",
        "    # max_retries=2,\n",
        "    messages=[\n",
        "        {\"role\": \"user\", \"content\": \"Hi, my name is Arsenii, and I need a 1000$ refund\"},\n",
        "    ]\n",
        ")"
      ],
      "metadata": {
        "id": "hKrgm9R5g7IV"
      },
      "execution_count": null,
      "outputs": []
    },
    {
      "cell_type": "code",
      "source": [
        "refund.amount"
      ],
      "metadata": {
        "colab": {
          "base_uri": "https://localhost:8080/"
        },
        "id": "wxZoRUeUoX_w",
        "outputId": "bfc40cd5-e11f-4ec0-bc2d-43a523fed834"
      },
      "execution_count": null,
      "outputs": [
        {
          "output_type": "execute_result",
          "data": {
            "text/plain": [
              "100"
            ]
          },
          "metadata": {},
          "execution_count": 68
        }
      ]
    },
    {
      "cell_type": "code",
      "source": [
        "refund.customer_name"
      ],
      "metadata": {
        "colab": {
          "base_uri": "https://localhost:8080/",
          "height": 36
        },
        "id": "IUMMiweFsL5S",
        "outputId": "cb4096b0-c644-4b47-b1b0-5baaa775fcb9"
      },
      "execution_count": null,
      "outputs": [
        {
          "output_type": "execute_result",
          "data": {
            "text/plain": [
              "'Arsenii'"
            ],
            "application/vnd.google.colaboratory.intrinsic+json": {
              "type": "string"
            }
          },
          "metadata": {},
          "execution_count": 71
        }
      ]
    },
    {
      "cell_type": "markdown",
      "source": [
        "### LLM-Based Validation Example\n",
        "\n",
        "[Docs](https://jxnl.github.io/instructor/blog/2023/10/23/good-llm-validation-is-just-good-validation/?h=llm+val#creating-your-own-field-level-llm_validator)\n",
        "\n",
        "LLM-based validation can also be plugged into the same Pydantic model. Here, if the answer attribute contains content that violates the rule \"don't say objectionable things,\" Pydantic will raise a validation error."
      ],
      "metadata": {
        "id": "UGWGzl7nhA11"
      }
    },
    {
      "cell_type": "code",
      "source": [
        "question = \"What is the meaning of life?\"\n",
        "context = \"The meaning of life, according to the context, is to live a life of sin and debauchery.\""
      ],
      "metadata": {
        "id": "-m5l_aSAicis"
      },
      "execution_count": null,
      "outputs": []
    },
    {
      "cell_type": "code",
      "source": [
        "from typing_extensions import Annotated\n",
        "from pydantic import BeforeValidator, AfterValidator\n",
        "from instructor import llm_validator\n",
        "\n",
        "class QuestionAnswerNoEvil(BaseModel):\n",
        "    question: str\n",
        "    answer: Annotated[\n",
        "        str,\n",
        "        BeforeValidator(\n",
        "            llm_validator(\"the answer must not say objectionable things\", openai_client=client)\n",
        "        ),\n",
        "    ]\n",
        "\n",
        "try:\n",
        "    qa: QuestionAnswerNoEvil = client.chat.completions.create(\n",
        "        model=\"gpt-3.5-turbo\",\n",
        "        response_model=QuestionAnswerNoEvil,\n",
        "        max_retries=0, # cahnge to 2\n",
        "        messages=[\n",
        "            {\n",
        "                \"role\": \"system\",\n",
        "                \"content\": \"You are a system that answers questions based on the context. answer exactly what the question asks using the context.\",\n",
        "            },\n",
        "            {\n",
        "                \"role\": \"user\",\n",
        "                \"content\": f\"Using the context: {context}\\n\\nAnswer the following question: {question}\",\n",
        "            },\n",
        "        ],\n",
        "    )\n",
        "except Exception as e:\n",
        "    print(e)"
      ],
      "metadata": {
        "id": "yrQfr7bslAh1"
      },
      "execution_count": null,
      "outputs": []
    },
    {
      "cell_type": "code",
      "source": [
        "qa.answer"
      ],
      "metadata": {
        "colab": {
          "base_uri": "https://localhost:8080/",
          "height": 36
        },
        "id": "_h-gMs0pvaUR",
        "outputId": "80740855-7708-48a2-87da-7bdfa7a45611"
      },
      "execution_count": null,
      "outputs": [
        {
          "output_type": "execute_result",
          "data": {
            "text/plain": [
              "'The meaning of life is to seek happiness, fulfillment, and personal growth.'"
            ],
            "application/vnd.google.colaboratory.intrinsic+json": {
              "type": "string"
            }
          },
          "metadata": {},
          "execution_count": 95
        }
      ]
    },
    {
      "cell_type": "markdown",
      "source": [
        "# Converting to OpenAI Schema\n",
        "To convert your model into OpenAI function you simply need to extend OpenAISchema. All the same principles apply."
      ],
      "metadata": {
        "id": "ovsnm5M0tKb4"
      }
    },
    {
      "cell_type": "code",
      "source": [
        "from instructor import OpenAISchema\n",
        "\n",
        "class User(OpenAISchema):\n",
        "    name: str\n",
        "    age: int\n",
        "\n",
        "    def run(self):\n",
        "      print(f\"Executing function. User name is {self.name}. Age is {self.age}\")"
      ],
      "metadata": {
        "id": "QxONzkUKtKKy"
      },
      "execution_count": null,
      "outputs": []
    },
    {
      "cell_type": "code",
      "source": [
        "completion = client.chat.completions.create(\n",
        "    model=\"gpt-3.5-turbo\",\n",
        "    messages=[{\n",
        "        \"content\": \"Jason is 20 years old\",\n",
        "        \"role\": \"user\"\n",
        "    }],\n",
        "    tools=[{\n",
        "        \"type\": \"function\",\n",
        "        \"function\": User.openai_schema, # add your function\n",
        "    }],\n",
        "    tool_choice={\"type\": \"function\", \"function\": {\"name\": User.openai_schema['name']}}\n",
        ")"
      ],
      "metadata": {
        "id": "C7YLcg7i62Fe"
      },
      "execution_count": null,
      "outputs": []
    },
    {
      "cell_type": "code",
      "source": [
        "def execute_tool(tool_call, funcs):\n",
        "    func = next(iter([func for func in funcs if func.__name__ == tool_call.function.name]))\n",
        "\n",
        "    if not func:\n",
        "        return f\"Error: Function {tool_call.function.name} not found. Available functions: {[func.__name__ for func in funcs]}\"\n",
        "\n",
        "    try:\n",
        "        # init tool\n",
        "        func = func(**eval(tool_call.function.arguments))\n",
        "        # get outputs from the tool\n",
        "        output = func.run()\n",
        "\n",
        "        return output\n",
        "    except Exception as e:\n",
        "        return \"Error: \" + str(e)"
      ],
      "metadata": {
        "id": "nsICjiIf6Glv"
      },
      "execution_count": null,
      "outputs": []
    },
    {
      "cell_type": "code",
      "source": [
        "for tool_call in completion.choices[0].message.tool_calls:\n",
        "  execute_tool(tool_call, [User])"
      ],
      "metadata": {
        "colab": {
          "base_uri": "https://localhost:8080/"
        },
        "id": "kTmUVPlj6e5l",
        "outputId": "73eb68ed-5b29-4111-d4a2-75e98ad829fc"
      },
      "execution_count": null,
      "outputs": [
        {
          "output_type": "stream",
          "name": "stdout",
          "text": [
            "Executing function. User name is Jason. Age is 20\n"
          ]
        }
      ]
    },
    {
      "cell_type": "markdown",
      "source": [
        "# Tips\n",
        "The overarching theme of using Instructor and Pydantic for function calling is to make the models as self-descriptive, modular, and flexible as possible, while maintaining data integrity and ease of use.\n"
      ],
      "metadata": {
        "id": "aUFho-PjfZUA"
      }
    },
    {
      "cell_type": "markdown",
      "source": [
        "### Always include \"other\" options"
      ],
      "metadata": {
        "id": "9BjHg7WivY2c"
      }
    },
    {
      "cell_type": "code",
      "source": [
        "from typing import Literal\n",
        "from enum import Enum\n",
        "class Role(Enum):\n",
        "    PRINCIPAL = auto()\n",
        "    TEACHER = auto()\n",
        "    STUDENT = auto()\n",
        "    OTHER = auto()\n",
        "\n",
        "class UserDetail(BaseModel):\n",
        "    role: Literal[\"PRINCIPAL\", \"TEACHER\", \"STUDENT\", \"OTHER\"]\n",
        "    role2: Role = Field(..., description=\"Extract any other properties that might be relevant.\")"
      ],
      "metadata": {
        "id": "xc3lliT3HFw3"
      },
      "execution_count": null,
      "outputs": []
    },
    {
      "cell_type": "markdown",
      "source": [
        "### Use special fields\n",
        "\n",
        "This approach to \"chain of thought\" improves data quality but can have modular components rather than global CoT. For complex attributes, it helps to reiterate the instructions in the field's description."
      ],
      "metadata": {
        "id": "o7hiNa_avloj"
      }
    },
    {
      "cell_type": "code",
      "source": [
        "class Role(OpenAISchema):\n",
        "    \"\"\"\n",
        "    Extract the role based on the following rules ...\n",
        "    \"\"\"\n",
        "    instructions: str = Field(..., description=\"Restate the instructions and rules to correctly determine the title.\")\n",
        "    title: str\n",
        "\n",
        "class Role(OpenAISchema):\n",
        "    chain_of_thought: str = Field(...,\n",
        "        description=\"Think step by step to determine the correct title\",\n",
        "                                  exclude=True)\n",
        "    title: str"
      ],
      "metadata": {
        "id": "dm_GZ2T6vqAd"
      },
      "execution_count": null,
      "outputs": []
    },
    {
      "cell_type": "markdown",
      "source": [
        "### Define relationships"
      ],
      "metadata": {
        "id": "0slbLeUjxEBD"
      }
    },
    {
      "cell_type": "code",
      "source": [
        "class UserDetail(OpenAISchema):\n",
        "    id: int = Field(..., description=\"Unique identifier for each user.\")\n",
        "    age: int\n",
        "    name: str\n",
        "    friends: List[int] = Field(..., description=\"Correct and complete list of friend IDs, representing relationships between users.\")\n",
        "\n",
        "class UserRelationships(OpenAISchema):\n",
        "    users: List[UserDetail] = Field(..., description=\"Collection of users, correctly capturing the relationships among them.\")"
      ],
      "metadata": {
        "id": "Elbu9BpNxDfG"
      },
      "execution_count": null,
      "outputs": []
    },
    {
      "cell_type": "markdown",
      "source": [
        "# Using with Agency Swarm\n",
        "https://github.com/VRSEN/agency-swarm\n",
        "\n",
        "The only difference is that you need to implement run method, and extend the BaseTool, which also extends OpenAISchema."
      ],
      "metadata": {
        "id": "dqh60jomhzqa"
      }
    },
    {
      "cell_type": "code",
      "source": [
        "from agency_swarm import BaseTool\n",
        "\n",
        "class User(BaseTool):\n",
        "    name: str\n",
        "    age: int\n",
        "\n",
        "    def run(self):\n",
        "      print(f\"Executing function. User name is {self.name}. Age is {self.age}\")"
      ],
      "metadata": {
        "id": "gekgvljHjRf5"
      },
      "execution_count": null,
      "outputs": []
    },
    {
      "cell_type": "markdown",
      "source": [
        "### Importing tools from langchain\n",
        "You can now import tools from langchain in 1 line of code with a special `ToolFacotry` class!"
      ],
      "metadata": {
        "id": "86-e9o26xSoC"
      }
    },
    {
      "cell_type": "code",
      "source": [
        "from langchain.tools import YouTubeSearchTool\n",
        "from agency_swarm.tools import ToolFactory\n",
        "from agency_swarm import Agent, Agency, set_openai_key\n",
        "set_openai_key(openai.api_key)\n",
        "\n",
        "LangchainTool = ToolFactory.from_langchain_tool(YouTubeSearchTool)"
      ],
      "metadata": {
        "id": "EZhQvxqihsbc"
      },
      "execution_count": null,
      "outputs": []
    },
    {
      "cell_type": "code",
      "source": [
        "from langchain.agents import load_tools\n",
        "\n",
        "tools = load_tools(\n",
        "    [\"human\"],\n",
        ")\n",
        "\n",
        "tools = ToolFactory.from_langchain_tools(tools)"
      ],
      "metadata": {
        "id": "F_VUj4BTLJZa"
      },
      "execution_count": null,
      "outputs": []
    },
    {
      "cell_type": "code",
      "source": [
        "agent = Agent(\n",
        "    name=\"test_agent\",\n",
        "    tools=[LangchainTool, *tools]\n",
        ")\n",
        "\n",
        "agency = Agency(\n",
        "    [agent]\n",
        ")"
      ],
      "metadata": {
        "id": "iOi2XlS_lf11"
      },
      "execution_count": null,
      "outputs": []
    },
    {
      "cell_type": "code",
      "source": [
        "message = agency.get_completion(\"Search YouTube for a video about lex fridman\", False)\n",
        "print(message)"
      ],
      "metadata": {
        "colab": {
          "base_uri": "https://localhost:8080/"
        },
        "id": "aN92aHvenc9-",
        "outputId": "00665b84-1e42-495d-efec-83b72cb114c4"
      },
      "execution_count": null,
      "outputs": [
        {
          "output_type": "stream",
          "name": "stdout",
          "text": [
            "Here are some YouTube videos about Lex Fridman:\n",
            "\n",
            "1. [Video 1](https://www.youtube.com/watch?v=JN3KPFbWCy8)\n",
            "2. [Video 2](https://www.youtube.com/watch?v=r4wLXNydzeY)\n",
            "3. [Video 3](https://www.youtube.com/watch?v=co_MeKSnyAo)\n",
            "4. [Video 4](https://www.youtube.com/watch?v=MVYrJJNdrEg)\n",
            "5. [Video 5](https://www.youtube.com/watch?v=uZN5xjoS6TU)\n",
            "\n",
            "Please explore these links for content related to Lex Fridman.\n"
          ]
        }
      ]
    },
    {
      "cell_type": "markdown",
      "source": [
        "# Example\n",
        "Improving your RAG applications with direct quotes!"
      ],
      "metadata": {
        "id": "WcbKjki2faf7"
      }
    },
    {
      "cell_type": "code",
      "source": [
        "import re, json\n",
        "from pydantic import Field, BaseModel, model_validator, FieldValidationInfo\n",
        "from typing import List\n",
        "\n",
        "class Fact(BaseModel):\n",
        "    fact: str = Field(...)\n",
        "    substring_quote: List[str] = Field(...)\n",
        "\n",
        "    @model_validator(mode=\"after\")\n",
        "    def validate_sources(self, info: FieldValidationInfo) -> \"Fact\":\n",
        "        text_chunks = info.context.get(\"text_chunk\", None)\n",
        "        spans = list(self.get_spans(text_chunks))\n",
        "        self.substring_quote = [text_chunks[span[0] : span[1]] for span in spans]\n",
        "        return self\n",
        "\n",
        "    def get_spans(self, context):\n",
        "        for quote in self.substring_quote:\n",
        "            yield from self._get_span(quote, context)\n",
        "\n",
        "    def _get_span(self, quote, context):\n",
        "        for match in re.finditer(re.escape(quote), context):\n",
        "            yield match.span()"
      ],
      "metadata": {
        "id": "18XBuSELfbmt"
      },
      "execution_count": null,
      "outputs": []
    },
    {
      "cell_type": "code",
      "source": [
        "class QuestionAnswer(BaseModel):\n",
        "    question: str = Field(...)\n",
        "    answer: List[Fact] = Field(...)\n",
        "\n",
        "    @model_validator(mode=\"after\")\n",
        "    def validate_sources(self) -> \"QuestionAnswer\":\n",
        "        self.answer = [fact for fact in self.answer if len(fact.substring_quote) > 0]\n",
        "        return self"
      ],
      "metadata": {
        "id": "YUXvS86SxNRN"
      },
      "execution_count": null,
      "outputs": []
    },
    {
      "cell_type": "code",
      "source": [
        "question = \"What did the author do during college?\"\n",
        "context = \"\"\"\n",
        "My name is Jason Liu, and I grew up in Toronto Canada but I was born in China.\n",
        "I went to an arts high school but in university I studied Computational Mathematics and physics.\n",
        "As part of coop I worked at many companies including Stitchfix, Facebook.\n",
        "I also started the Data Science club at the University of Waterloo and I was the president of the club for 2 years.\n",
        "\"\"\""
      ],
      "metadata": {
        "id": "Hn2R9V35xecd"
      },
      "execution_count": null,
      "outputs": []
    },
    {
      "cell_type": "code",
      "source": [
        "qa = client.chat.completions.create(\n",
        "        model=\"gpt-3.5-turbo-0613\",\n",
        "        temperature=0,\n",
        "        response_model=QuestionAnswer,\n",
        "        messages=[\n",
        "            {\"role\": \"system\", \"content\": \"You are a world class algorithm to answer questions with correct and exact citations.\"},\n",
        "            {\"role\": \"user\", \"content\": f\"{context}\"},\n",
        "            {\"role\": \"user\", \"content\": f\"Question: {question}\"}\n",
        "        ],\n",
        "        validation_context={\"text_chunk\": context},\n",
        "    )"
      ],
      "metadata": {
        "id": "BY-t19wDxWQq"
      },
      "execution_count": null,
      "outputs": []
    },
    {
      "cell_type": "code",
      "source": [
        "print(json.dumps(qa.model_dump(), indent=4))"
      ],
      "metadata": {
        "colab": {
          "base_uri": "https://localhost:8080/"
        },
        "id": "ydQwkkBBxiGa",
        "outputId": "5808a5e1-520c-460e-fd1a-8f86bc7ad50e"
      },
      "execution_count": null,
      "outputs": [
        {
          "output_type": "stream",
          "name": "stdout",
          "text": [
            "{\n",
            "    \"question\": \"What did the author do during college?\",\n",
            "    \"answer\": [\n",
            "        {\n",
            "            \"fact\": \"The author studied Computational Mathematics and physics in university.\",\n",
            "            \"substring_quote\": [\n",
            "                \"in university I studied Computational Mathematics and physics.\"\n",
            "            ]\n",
            "        },\n",
            "        {\n",
            "            \"fact\": \"The author started the Data Science club at the University of Waterloo and was the president of the club for 2 years.\",\n",
            "            \"substring_quote\": [\n",
            "                \"started the Data Science club at the University of Waterloo\",\n",
            "                \"president of the club for 2 years.\"\n",
            "            ]\n",
            "        }\n",
            "    ]\n",
            "}\n"
          ]
        }
      ]
    },
    {
      "cell_type": "markdown",
      "source": [
        "# Chekout Docs For More Details:\n",
        "[Instructor cookbook](https://jxnl.github.io/instructor/examples/)\n",
        "\n",
        "[Docs](https://jxnl.github.io/instructor/)"
      ],
      "metadata": {
        "id": "QlhhUzH69p0-"
      }
    }
  ],
  "metadata": {
    "colab": {
      "provenance": [],
      "include_colab_link": true
    },
    "kernelspec": {
      "display_name": "Python 3",
      "name": "python3"
    },
    "language_info": {
      "name": "python"
    }
  },
  "nbformat": 4,
  "nbformat_minor": 0
}